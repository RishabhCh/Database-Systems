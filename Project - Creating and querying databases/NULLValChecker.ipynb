{
 "cells": [
  {
   "cell_type": "code",
   "execution_count": 1,
   "id": "556c2561",
   "metadata": {},
   "outputs": [
    {
     "name": "stdout",
     "output_type": "stream",
     "text": [
      "Following are the columns which may have no value for a particular dataset in the json file: airport.json\n",
      "airport_province\n",
      "city\n",
      "island\n",
      "elevation\n",
      "Following are the columns which may have no value for a particular dataset in the json file: borders.json\n",
      "Following are the columns which may have no value for a particular dataset in the json file: city.json\n",
      "population\n",
      "country_capital\n",
      "elevation\n",
      "Following are the columns which may have no value for a particular dataset in the json file: citylocalname.json\n",
      "Following are the columns which may have no value for a particular dataset in the json file: cityothername.json\n",
      "Following are the columns which may have no value for a particular dataset in the json file: citypopulations.json\n",
      "Following are the columns which may have no value for a particular dataset in the json file: country-other-localname.json\n",
      "othername\n",
      "Following are the columns which may have no value for a particular dataset in the json file: country.json\n",
      "province\n",
      "capital\n",
      "Following are the columns which may have no value for a particular dataset in the json file: countrypopulations.json\n",
      "capital\n",
      "Following are the columns which may have no value for a particular dataset in the json file: economy.json\n",
      "agriculture\n",
      "inflation\n",
      "gdp\n",
      "industry\n",
      "unemployment\n",
      "service\n",
      "Following are the columns which may have no value for a particular dataset in the json file: ethnicgroup.json\n",
      "ethnic_group_percentage\n",
      "country_capital\n",
      "Following are the columns which may have no value for a particular dataset in the json file: ismember.json\n",
      "Following are the columns which may have no value for a particular dataset in the json file: language.json\n",
      "percentage\n",
      "country_capital\n",
      "Following are the columns which may have no value for a particular dataset in the json file: located-on.json\n",
      "Following are the columns which may have no value for a particular dataset in the json file: organization.json\n",
      "country\n",
      "province\n",
      "city\n",
      "established\n",
      "Following are the columns which may have no value for a particular dataset in the json file: politics.json\n",
      "wasdependent\n",
      "independence\n",
      "dependent\n",
      "government\n",
      "Following are the columns which may have no value for a particular dataset in the json file: population.json\n",
      "infant_mortality\n",
      "country_province\n",
      "population_growth\n",
      "Following are the columns which may have no value for a particular dataset in the json file: province.json\n",
      "population\n",
      "capprov\n",
      "capital\n",
      "Following are the columns which may have no value for a particular dataset in the json file: provincelocalname.json\n",
      "Following are the columns which may have no value for a particular dataset in the json file: provinceothername.json\n",
      "Following are the columns which may have no value for a particular dataset in the json file: provincepopulation.json\n",
      "Following are the columns which may have no value for a particular dataset in the json file: religion.json\n"
     ]
    }
   ],
   "source": [
    "import os,json\n",
    "\n",
    "path_to_json = 'dataset/'\n",
    "# iterating through all json files in the dataset folder\n",
    "for file_name in [file for file in os.listdir(path_to_json) if file.endswith('.json')]:\n",
    "  with open(path_to_json + file_name,encoding = 'UTF-8') as json_file: # for each json file\n",
    "    print(\"Following are the columns which may have no value for a particular dataset in the json file: \"+file_name)\n",
    "    data = json.load(json_file) # load json\n",
    "    dataitems = data[\"results\"][0][\"items\"]\n",
    "    dataitemsstr = json.dumps(data[\"results\"][0][\"items\"])\n",
    "#     pairs = dataitems.items() # make key, value pairs\n",
    "    empty_key_set = []\n",
    "    for i in range(len(dataitems)):\n",
    "        makepairs = json.loads(dataitemsstr)[i]\n",
    "        pairs = makepairs.items()\n",
    "        for key,value in pairs:\n",
    "            if str(value) == '' or str(value) == \"\":\n",
    "                empty_key_set.append(key)\n",
    "    for emptykey in set(empty_key_set):\n",
    "        print(emptykey)"
   ]
  },
  {
   "cell_type": "code",
   "execution_count": null,
   "id": "41c3f05b",
   "metadata": {},
   "outputs": [],
   "source": []
  }
 ],
 "metadata": {
  "kernelspec": {
   "display_name": "Python 3",
   "language": "python",
   "name": "python3"
  },
  "language_info": {
   "codemirror_mode": {
    "name": "ipython",
    "version": 3
   },
   "file_extension": ".py",
   "mimetype": "text/x-python",
   "name": "python",
   "nbconvert_exporter": "python",
   "pygments_lexer": "ipython3",
   "version": "3.8.8"
  }
 },
 "nbformat": 4,
 "nbformat_minor": 5
}
